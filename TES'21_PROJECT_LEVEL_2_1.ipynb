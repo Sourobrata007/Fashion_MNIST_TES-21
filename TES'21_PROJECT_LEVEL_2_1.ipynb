{
  "nbformat": 4,
  "nbformat_minor": 0,
  "metadata": {
    "colab": {
      "name": "TES'21_PROJECT_LEVEL_2_1.ipynb",
      "provenance": [],
      "collapsed_sections": []
    },
    "kernelspec": {
      "name": "python3",
      "display_name": "Python 3"
    },
    "language_info": {
      "name": "python"
    }
  },
  "cells": [
    {
      "cell_type": "code",
      "metadata": {
        "colab": {
          "base_uri": "https://localhost:8080/"
        },
        "id": "mqz35d_arjik",
        "outputId": "4662ba8f-293e-4002-a1be-ba8a864b3dea"
      },
      "source": [
        "\n",
        "%%time\n",
        "\n",
        "#! rm -fr food_mnist\n",
        "! git clone https://github.com/srohit0/food_mnist.git\n",
        "\n",
        "import food_mnist\n",
        "from google.colab.patches import cv2_imshow"
      ],
      "execution_count": null,
      "outputs": [
        {
          "output_type": "stream",
          "text": [
            "Cloning into 'food_mnist'...\n",
            "remote: Enumerating objects: 5094, done.\u001b[K\n",
            "remote: Total 5094 (delta 0), reused 0 (delta 0), pack-reused 5094\u001b[K\n",
            "Receiving objects: 100% (5094/5094), 239.57 MiB | 40.27 MiB/s, done.\n",
            "Resolving deltas: 100% (37/37), done.\n",
            "Checking out files: 100% (5015/5015), done.\n",
            "CPU times: user 168 ms, sys: 46.2 ms, total: 214 ms\n",
            "Wall time: 10.1 s\n"
          ],
          "name": "stdout"
        }
      ]
    },
    {
      "cell_type": "code",
      "metadata": {
        "id": "LZKwxe9KIVRk"
      },
      "source": [
        "\n",
        "import pandas as pd \n",
        "import numpy as np\n",
        "import matplotlib.pyplot as plt\n",
        "import seaborn as sns\n",
        "import tensorflow as tf\n",
        "from tensorflow import keras\n",
        "from tensorflow.keras import layers\n",
        "import food_mnist\n",
        "from keras.preprocessing.image import ImageDataGenerator, load_img\n",
        "from keras.utils import to_categorical \n",
        "from sklearn.model_selection import train_test_split\n",
        "import matplotlib.pyplot as plt\n",
        "import random\n",
        "import os\n"
      ],
      "execution_count": null,
      "outputs": []
    },
    {
      "cell_type": "code",
      "metadata": {
        "id": "wuarOTcuZ3L1"
      },
      "source": [
        "#(x_train, y_train), (x_test, y_test) = food_mnist.load_data()\n",
        "#labels_dict = food_mnist.labels()\n",
        "#print(labels_dict)\n"
      ],
      "execution_count": null,
      "outputs": []
    },
    {
      "cell_type": "code",
      "metadata": {
        "id": "NjvD_rrXLubO"
      },
      "source": [
        "batch_size = 1000\n",
        "epochs = 100\n",
        "num_classes = 10\n",
        "\n",
        "def randomize(dataset, labels):\n",
        "  permutation = np.random.permutation(labels.shape[0])\n",
        "  shuffled_dataset = dataset[permutation,:,:]\n",
        "  shuffled_labels = labels[permutation]\n",
        "  return shuffled_dataset, shuffled_labels\n",
        "\n",
        "\n",
        "def divide_dataset(dataset, labels):\n",
        "    train_pct = 0.80; \n",
        "    # divide dataset into training and validation set\n",
        "    train_index = int(dataset.shape[0]*train_pct)\n",
        "    t_X = dataset[:train_index, :]\n",
        "    t_Y = labels[:train_index]\n",
        "    v_X = dataset[train_index:,:]\n",
        "    v_Y = labels[train_index:]\n",
        "    \n",
        "    return (t_X, t_Y), (v_X, v_Y)\n",
        "\n",
        "# input image dimensions\n",
        "img_rows, img_cols, img_channels = 56, 56, 3\n",
        "input_shape = (img_rows, img_cols, img_channels)\n",
        "\n",
        "# the data, split between train and test sets\n",
        "(x_train, y_train), (x_test, y_test) = food_mnist.load_data(img_cols, img_rows)\n",
        "X = np.concatenate((x_train, x_test), axis=0)\n",
        "Y = np.concatenate((y_train, y_test), axis=0)\n",
        "\n",
        "X, Y = randomize(X, Y)\n",
        "(x_train, y_train), (x_test, y_test) = divide_dataset(X, Y)\n",
        "\n",
        "x_train = x_train.reshape(x_train.shape[0], img_rows, img_cols, img_channels)\n",
        "x_test = x_test.reshape(x_test.shape[0], img_rows, img_cols, img_channels)\n",
        "\n",
        "x_train = x_train.astype('float16') / 255.0\n",
        "x_test = x_test.astype('float16') / 255.0\n",
        "\n",
        "\n",
        "# convert class vectors to binary class matrices\n",
        "y_train = tf.keras.utils.to_categorical(y_train, num_classes)\n",
        "y_test = tf.keras.utils.to_categorical(y_test, num_classes)"
      ],
      "execution_count": null,
      "outputs": []
    },
    {
      "cell_type": "code",
      "metadata": {
        "id": "e0Md31rqr48S"
      },
      "source": [
        "from tensorflow.keras.layers import Conv2D\n",
        "from tensorflow.keras.layers import Dense"
      ],
      "execution_count": null,
      "outputs": []
    },
    {
      "cell_type": "code",
      "metadata": {
        "id": "z9yY7azMr4_H"
      },
      "source": [
        "from tensorflow.keras.regularizers import l2"
      ],
      "execution_count": null,
      "outputs": []
    },
    {
      "cell_type": "code",
      "metadata": {
        "id": "9RTxL1jwr5Bz"
      },
      "source": [
        "cnn = tf.keras.models.Sequential()\n",
        "\n",
        "# Step 1 - Convolution\n",
        "cnn.add(tf.keras.layers.Conv2D(filters=32,padding=\"same\",kernel_size=3, activation='relu', strides=2, input_shape=[56, 56, 3]))\n",
        "\n",
        "# Step 2 - Pooling\n",
        "cnn.add(tf.keras.layers.MaxPool2D(pool_size=2, strides=2))\n",
        "\n",
        "# Adding a second convolutional layer\n",
        "cnn.add(tf.keras.layers.Conv2D(filters=32,padding='same',kernel_size=3, activation='relu'))\n",
        "cnn.add(tf.keras.layers.MaxPool2D(pool_size=2, strides=2))\n",
        "# Adding a third convolutional layer\n",
        "cnn.add(tf.keras.layers.Conv2D(filters=64,padding='same',kernel_size=3, activation='relu'))\n",
        "cnn.add(tf.keras.layers.MaxPool2D(pool_size=2, strides=2))\n",
        "# Step 3 - Flattening\n",
        "cnn.add(tf.keras.layers.Flatten())\n",
        "\n",
        "# Step 4 - Full Connection\n",
        "cnn.add(tf.keras.layers.Dense(units=128, activation='relu', name = 'Dense_01'))\n",
        "# Step 5 - second Dense Layer\n",
        "cnn.add(tf.keras.layers.Dense(units=10, activation='relu',name = 'Dense_02'))\n",
        "# Step 6- Dropout\n",
        "cnn.add(tf.keras.layers.Dropout(0.5,name = 'Dropout_02'))\n",
        "# Step 7 - Output Layer\n",
        "#cnn.add(tf.keras.layers.Dense(units=1, activation='sigmoid'))\n",
        "## For Binary Classification\n",
        "#cnn.add(Dense(1, kernel_regularizer=tf.keras.regularizers.l2(0.01),activation\n",
        "            # ='linear'))\n",
        "cnn.add(Dense(10, kernel_regularizer=tf.keras.regularizers.l2(0.01),activation\n",
        "             ='softmax'))\n",
        "cnn.compile(optimizer = 'adam', loss = 'squared_hinge', metrics = ['accuracy'])"
      ],
      "execution_count": null,
      "outputs": []
    },
    {
      "cell_type": "code",
      "metadata": {
        "colab": {
          "base_uri": "https://localhost:8080/"
        },
        "id": "qT0pbQ8br5E7",
        "outputId": "3fd93fb2-935b-4a5e-90d0-1ead3701cc02"
      },
      "source": [
        "cnn.summary()"
      ],
      "execution_count": null,
      "outputs": [
        {
          "output_type": "stream",
          "text": [
            "Model: \"sequential\"\n",
            "_________________________________________________________________\n",
            "Layer (type)                 Output Shape              Param #   \n",
            "=================================================================\n",
            "conv2d (Conv2D)              (None, 28, 28, 32)        896       \n",
            "_________________________________________________________________\n",
            "max_pooling2d (MaxPooling2D) (None, 14, 14, 32)        0         \n",
            "_________________________________________________________________\n",
            "conv2d_1 (Conv2D)            (None, 14, 14, 32)        9248      \n",
            "_________________________________________________________________\n",
            "max_pooling2d_1 (MaxPooling2 (None, 7, 7, 32)          0         \n",
            "_________________________________________________________________\n",
            "conv2d_2 (Conv2D)            (None, 7, 7, 64)          18496     \n",
            "_________________________________________________________________\n",
            "max_pooling2d_2 (MaxPooling2 (None, 3, 3, 64)          0         \n",
            "_________________________________________________________________\n",
            "flatten (Flatten)            (None, 576)               0         \n",
            "_________________________________________________________________\n",
            "Dense_01 (Dense)             (None, 128)               73856     \n",
            "_________________________________________________________________\n",
            "Dense_02 (Dense)             (None, 10)                1290      \n",
            "_________________________________________________________________\n",
            "Dropout_02 (Dropout)         (None, 10)                0         \n",
            "_________________________________________________________________\n",
            "dense (Dense)                (None, 10)                110       \n",
            "=================================================================\n",
            "Total params: 103,896\n",
            "Trainable params: 103,896\n",
            "Non-trainable params: 0\n",
            "_________________________________________________________________\n"
          ],
          "name": "stdout"
        }
      ]
    },
    {
      "cell_type": "code",
      "metadata": {
        "colab": {
          "base_uri": "https://localhost:8080/"
        },
        "id": "skHqcd88r5IU",
        "outputId": "684ec812-14b3-4a43-c9d8-d6909edea3c4"
      },
      "source": [
        "# Training the CNN on the Training set and evaluating it on the Test set\n",
        "r=cnn.fit(x_train, y_train, batch_size=batch_size,\n",
        "          epochs= epochs, validation_data=(x_test, y_test))\n"
      ],
      "execution_count": null,
      "outputs": [
        {
          "output_type": "stream",
          "text": [
            "Epoch 1/100\n",
            "4/4 [==============================] - 5s 1s/step - loss: 1.2711 - accuracy: 0.1105 - val_loss: 1.2691 - val_accuracy: 0.1530\n",
            "Epoch 2/100\n",
            "4/4 [==============================] - 4s 983ms/step - loss: 1.2684 - accuracy: 0.1304 - val_loss: 1.2666 - val_accuracy: 0.1190\n",
            "Epoch 3/100\n",
            "4/4 [==============================] - 4s 993ms/step - loss: 1.2654 - accuracy: 0.1288 - val_loss: 1.2633 - val_accuracy: 0.1840\n",
            "Epoch 4/100\n",
            "4/4 [==============================] - 4s 999ms/step - loss: 1.2621 - accuracy: 0.1411 - val_loss: 1.2599 - val_accuracy: 0.1940\n",
            "Epoch 5/100\n",
            "4/4 [==============================] - 4s 984ms/step - loss: 1.2593 - accuracy: 0.1441 - val_loss: 1.2563 - val_accuracy: 0.1700\n",
            "Epoch 6/100\n",
            "4/4 [==============================] - 4s 991ms/step - loss: 1.2552 - accuracy: 0.1714 - val_loss: 1.2522 - val_accuracy: 0.1990\n",
            "Epoch 7/100\n",
            "4/4 [==============================] - 4s 990ms/step - loss: 1.2504 - accuracy: 0.1697 - val_loss: 1.2481 - val_accuracy: 0.1960\n",
            "Epoch 8/100\n",
            "4/4 [==============================] - 4s 991ms/step - loss: 1.2484 - accuracy: 0.1681 - val_loss: 1.2455 - val_accuracy: 0.1870\n",
            "Epoch 9/100\n",
            "4/4 [==============================] - 4s 1s/step - loss: 1.2458 - accuracy: 0.1772 - val_loss: 1.2411 - val_accuracy: 0.2190\n",
            "Epoch 10/100\n",
            "4/4 [==============================] - 4s 998ms/step - loss: 1.2427 - accuracy: 0.1800 - val_loss: 1.2386 - val_accuracy: 0.1860\n",
            "Epoch 11/100\n",
            "4/4 [==============================] - 4s 997ms/step - loss: 1.2420 - accuracy: 0.1757 - val_loss: 1.2382 - val_accuracy: 0.2050\n",
            "Epoch 12/100\n",
            "4/4 [==============================] - 4s 1s/step - loss: 1.2380 - accuracy: 0.1860 - val_loss: 1.2349 - val_accuracy: 0.2110\n",
            "Epoch 13/100\n",
            "4/4 [==============================] - 4s 994ms/step - loss: 1.2378 - accuracy: 0.1750 - val_loss: 1.2339 - val_accuracy: 0.2070\n",
            "Epoch 14/100\n",
            "4/4 [==============================] - 4s 999ms/step - loss: 1.2353 - accuracy: 0.1815 - val_loss: 1.2306 - val_accuracy: 0.2080\n",
            "Epoch 15/100\n",
            "4/4 [==============================] - 4s 1s/step - loss: 1.2346 - accuracy: 0.1717 - val_loss: 1.2290 - val_accuracy: 0.2130\n",
            "Epoch 16/100\n",
            "4/4 [==============================] - 4s 993ms/step - loss: 1.2319 - accuracy: 0.1883 - val_loss: 1.2276 - val_accuracy: 0.2130\n",
            "Epoch 17/100\n",
            "4/4 [==============================] - 4s 998ms/step - loss: 1.2282 - accuracy: 0.2016 - val_loss: 1.2252 - val_accuracy: 0.2110\n",
            "Epoch 18/100\n",
            "4/4 [==============================] - 4s 1s/step - loss: 1.2280 - accuracy: 0.1851 - val_loss: 1.2230 - val_accuracy: 0.2160\n",
            "Epoch 19/100\n",
            "4/4 [==============================] - 4s 996ms/step - loss: 1.2247 - accuracy: 0.1966 - val_loss: 1.2210 - val_accuracy: 0.2230\n",
            "Epoch 20/100\n",
            "4/4 [==============================] - 4s 1s/step - loss: 1.2254 - accuracy: 0.1799 - val_loss: 1.2195 - val_accuracy: 0.2200\n",
            "Epoch 21/100\n",
            "4/4 [==============================] - 4s 993ms/step - loss: 1.2206 - accuracy: 0.1982 - val_loss: 1.2178 - val_accuracy: 0.2190\n",
            "Epoch 22/100\n",
            "4/4 [==============================] - 4s 993ms/step - loss: 1.2195 - accuracy: 0.2030 - val_loss: 1.2166 - val_accuracy: 0.2240\n",
            "Epoch 23/100\n",
            "4/4 [==============================] - 4s 1s/step - loss: 1.2194 - accuracy: 0.1923 - val_loss: 1.2137 - val_accuracy: 0.2260\n",
            "Epoch 24/100\n",
            "4/4 [==============================] - 4s 1s/step - loss: 1.2159 - accuracy: 0.1942 - val_loss: 1.2129 - val_accuracy: 0.2380\n",
            "Epoch 25/100\n",
            "4/4 [==============================] - 4s 998ms/step - loss: 1.2149 - accuracy: 0.2071 - val_loss: 1.2119 - val_accuracy: 0.2170\n",
            "Epoch 26/100\n",
            "4/4 [==============================] - 4s 999ms/step - loss: 1.2124 - accuracy: 0.2070 - val_loss: 1.2111 - val_accuracy: 0.2200\n",
            "Epoch 27/100\n",
            "4/4 [==============================] - 4s 1s/step - loss: 1.2137 - accuracy: 0.2032 - val_loss: 1.2080 - val_accuracy: 0.2330\n",
            "Epoch 28/100\n",
            "4/4 [==============================] - 4s 1000ms/step - loss: 1.2111 - accuracy: 0.1975 - val_loss: 1.2070 - val_accuracy: 0.2270\n",
            "Epoch 29/100\n",
            "4/4 [==============================] - 4s 992ms/step - loss: 1.2083 - accuracy: 0.1999 - val_loss: 1.2046 - val_accuracy: 0.2300\n",
            "Epoch 30/100\n",
            "4/4 [==============================] - 4s 995ms/step - loss: 1.2074 - accuracy: 0.2016 - val_loss: 1.2044 - val_accuracy: 0.2270\n",
            "Epoch 31/100\n",
            "4/4 [==============================] - 4s 1s/step - loss: 1.2075 - accuracy: 0.1970 - val_loss: 1.2012 - val_accuracy: 0.2310\n",
            "Epoch 32/100\n",
            "4/4 [==============================] - 4s 999ms/step - loss: 1.2045 - accuracy: 0.1967 - val_loss: 1.2018 - val_accuracy: 0.2550\n",
            "Epoch 33/100\n",
            "4/4 [==============================] - 4s 996ms/step - loss: 1.2028 - accuracy: 0.2055 - val_loss: 1.1989 - val_accuracy: 0.2310\n",
            "Epoch 34/100\n",
            "4/4 [==============================] - 4s 1s/step - loss: 1.2011 - accuracy: 0.2070 - val_loss: 1.1993 - val_accuracy: 0.2540\n",
            "Epoch 35/100\n",
            "4/4 [==============================] - 4s 1000ms/step - loss: 1.2005 - accuracy: 0.2090 - val_loss: 1.1963 - val_accuracy: 0.2410\n",
            "Epoch 36/100\n",
            "4/4 [==============================] - 4s 1s/step - loss: 1.1970 - accuracy: 0.2135 - val_loss: 1.1976 - val_accuracy: 0.2430\n",
            "Epoch 37/100\n",
            "4/4 [==============================] - 4s 1000ms/step - loss: 1.1990 - accuracy: 0.2102 - val_loss: 1.1942 - val_accuracy: 0.2350\n",
            "Epoch 38/100\n",
            "4/4 [==============================] - 4s 1s/step - loss: 1.1965 - accuracy: 0.2057 - val_loss: 1.1938 - val_accuracy: 0.2310\n",
            "Epoch 39/100\n",
            "4/4 [==============================] - 4s 1s/step - loss: 1.1947 - accuracy: 0.2166 - val_loss: 1.1919 - val_accuracy: 0.2480\n",
            "Epoch 40/100\n",
            "4/4 [==============================] - 4s 1s/step - loss: 1.1908 - accuracy: 0.2285 - val_loss: 1.1920 - val_accuracy: 0.2440\n",
            "Epoch 41/100\n",
            "4/4 [==============================] - 4s 999ms/step - loss: 1.1915 - accuracy: 0.2357 - val_loss: 1.1894 - val_accuracy: 0.2540\n",
            "Epoch 42/100\n",
            "4/4 [==============================] - 4s 1s/step - loss: 1.1911 - accuracy: 0.2234 - val_loss: 1.1890 - val_accuracy: 0.2400\n",
            "Epoch 43/100\n",
            "4/4 [==============================] - 4s 999ms/step - loss: 1.1897 - accuracy: 0.2313 - val_loss: 1.1873 - val_accuracy: 0.2520\n",
            "Epoch 44/100\n",
            "4/4 [==============================] - 4s 996ms/step - loss: 1.1898 - accuracy: 0.2249 - val_loss: 1.1867 - val_accuracy: 0.2460\n",
            "Epoch 45/100\n",
            "4/4 [==============================] - 4s 1s/step - loss: 1.1865 - accuracy: 0.2364 - val_loss: 1.1854 - val_accuracy: 0.2540\n",
            "Epoch 46/100\n",
            "4/4 [==============================] - 4s 998ms/step - loss: 1.1834 - accuracy: 0.2438 - val_loss: 1.1851 - val_accuracy: 0.2420\n",
            "Epoch 47/100\n",
            "4/4 [==============================] - 4s 1s/step - loss: 1.1839 - accuracy: 0.2425 - val_loss: 1.1837 - val_accuracy: 0.2520\n",
            "Epoch 48/100\n",
            "4/4 [==============================] - 4s 991ms/step - loss: 1.1835 - accuracy: 0.2469 - val_loss: 1.1824 - val_accuracy: 0.2450\n",
            "Epoch 49/100\n",
            "4/4 [==============================] - 4s 1s/step - loss: 1.1810 - accuracy: 0.2429 - val_loss: 1.1808 - val_accuracy: 0.2640\n",
            "Epoch 50/100\n",
            "4/4 [==============================] - 4s 1s/step - loss: 1.1796 - accuracy: 0.2485 - val_loss: 1.1798 - val_accuracy: 0.2670\n",
            "Epoch 51/100\n",
            "4/4 [==============================] - 4s 997ms/step - loss: 1.1789 - accuracy: 0.2525 - val_loss: 1.1788 - val_accuracy: 0.2710\n",
            "Epoch 52/100\n",
            "4/4 [==============================] - 4s 999ms/step - loss: 1.1766 - accuracy: 0.2609 - val_loss: 1.1779 - val_accuracy: 0.2540\n",
            "Epoch 53/100\n",
            "4/4 [==============================] - 4s 1s/step - loss: 1.1782 - accuracy: 0.2464 - val_loss: 1.1760 - val_accuracy: 0.2680\n",
            "Epoch 54/100\n",
            "4/4 [==============================] - 4s 1s/step - loss: 1.1744 - accuracy: 0.2496 - val_loss: 1.1755 - val_accuracy: 0.2570\n",
            "Epoch 55/100\n",
            "4/4 [==============================] - 4s 1s/step - loss: 1.1729 - accuracy: 0.2542 - val_loss: 1.1752 - val_accuracy: 0.2680\n",
            "Epoch 56/100\n",
            "4/4 [==============================] - 4s 996ms/step - loss: 1.1741 - accuracy: 0.2527 - val_loss: 1.1758 - val_accuracy: 0.2620\n",
            "Epoch 57/100\n",
            "4/4 [==============================] - 4s 996ms/step - loss: 1.1733 - accuracy: 0.2498 - val_loss: 1.1742 - val_accuracy: 0.2650\n",
            "Epoch 58/100\n",
            "4/4 [==============================] - 4s 1s/step - loss: 1.1709 - accuracy: 0.2517 - val_loss: 1.1712 - val_accuracy: 0.2760\n",
            "Epoch 59/100\n",
            "4/4 [==============================] - 4s 994ms/step - loss: 1.1682 - accuracy: 0.2638 - val_loss: 1.1703 - val_accuracy: 0.2710\n",
            "Epoch 60/100\n",
            "4/4 [==============================] - 4s 1s/step - loss: 1.1656 - accuracy: 0.2692 - val_loss: 1.1703 - val_accuracy: 0.2730\n",
            "Epoch 61/100\n",
            "4/4 [==============================] - 4s 999ms/step - loss: 1.1669 - accuracy: 0.2685 - val_loss: 1.1690 - val_accuracy: 0.2670\n",
            "Epoch 62/100\n",
            "4/4 [==============================] - 4s 992ms/step - loss: 1.1661 - accuracy: 0.2697 - val_loss: 1.1693 - val_accuracy: 0.2680\n",
            "Epoch 63/100\n",
            "4/4 [==============================] - 4s 1s/step - loss: 1.1637 - accuracy: 0.2692 - val_loss: 1.1675 - val_accuracy: 0.2660\n",
            "Epoch 64/100\n",
            "4/4 [==============================] - 4s 1s/step - loss: 1.1662 - accuracy: 0.2513 - val_loss: 1.1678 - val_accuracy: 0.2890\n",
            "Epoch 65/100\n",
            "4/4 [==============================] - 4s 1s/step - loss: 1.1631 - accuracy: 0.2659 - val_loss: 1.1665 - val_accuracy: 0.2660\n",
            "Epoch 66/100\n",
            "4/4 [==============================] - 4s 1s/step - loss: 1.1603 - accuracy: 0.2752 - val_loss: 1.1654 - val_accuracy: 0.2730\n",
            "Epoch 67/100\n",
            "4/4 [==============================] - 4s 998ms/step - loss: 1.1628 - accuracy: 0.2588 - val_loss: 1.1659 - val_accuracy: 0.2670\n",
            "Epoch 68/100\n",
            "4/4 [==============================] - 4s 1s/step - loss: 1.1626 - accuracy: 0.2682 - val_loss: 1.1649 - val_accuracy: 0.2700\n",
            "Epoch 69/100\n",
            "4/4 [==============================] - 4s 1s/step - loss: 1.1601 - accuracy: 0.2731 - val_loss: 1.1639 - val_accuracy: 0.2780\n",
            "Epoch 70/100\n",
            "4/4 [==============================] - 4s 1s/step - loss: 1.1572 - accuracy: 0.2889 - val_loss: 1.1631 - val_accuracy: 0.2840\n",
            "Epoch 71/100\n",
            "4/4 [==============================] - 4s 997ms/step - loss: 1.1554 - accuracy: 0.2898 - val_loss: 1.1631 - val_accuracy: 0.2710\n",
            "Epoch 72/100\n",
            "4/4 [==============================] - 4s 1s/step - loss: 1.1575 - accuracy: 0.2748 - val_loss: 1.1628 - val_accuracy: 0.2790\n",
            "Epoch 73/100\n",
            "4/4 [==============================] - 4s 1s/step - loss: 1.1564 - accuracy: 0.2814 - val_loss: 1.1612 - val_accuracy: 0.2800\n",
            "Epoch 74/100\n",
            "4/4 [==============================] - 4s 1s/step - loss: 1.1540 - accuracy: 0.2763 - val_loss: 1.1607 - val_accuracy: 0.2880\n",
            "Epoch 75/100\n",
            "4/4 [==============================] - 4s 1s/step - loss: 1.1541 - accuracy: 0.2872 - val_loss: 1.1595 - val_accuracy: 0.2730\n",
            "Epoch 76/100\n",
            "4/4 [==============================] - 4s 1s/step - loss: 1.1519 - accuracy: 0.2873 - val_loss: 1.1600 - val_accuracy: 0.2760\n",
            "Epoch 77/100\n",
            "4/4 [==============================] - 4s 1s/step - loss: 1.1530 - accuracy: 0.2870 - val_loss: 1.1593 - val_accuracy: 0.2800\n",
            "Epoch 78/100\n",
            "4/4 [==============================] - 4s 1s/step - loss: 1.1520 - accuracy: 0.2901 - val_loss: 1.1585 - val_accuracy: 0.2900\n",
            "Epoch 79/100\n",
            "4/4 [==============================] - 4s 1s/step - loss: 1.1531 - accuracy: 0.2797 - val_loss: 1.1597 - val_accuracy: 0.2750\n",
            "Epoch 80/100\n",
            "4/4 [==============================] - 4s 999ms/step - loss: 1.1521 - accuracy: 0.2777 - val_loss: 1.1575 - val_accuracy: 0.2920\n",
            "Epoch 81/100\n",
            "4/4 [==============================] - 4s 1s/step - loss: 1.1485 - accuracy: 0.2891 - val_loss: 1.1571 - val_accuracy: 0.2920\n",
            "Epoch 82/100\n",
            "4/4 [==============================] - 4s 1s/step - loss: 1.1477 - accuracy: 0.2924 - val_loss: 1.1563 - val_accuracy: 0.2870\n",
            "Epoch 83/100\n",
            "4/4 [==============================] - 4s 1s/step - loss: 1.1475 - accuracy: 0.2974 - val_loss: 1.1562 - val_accuracy: 0.2880\n",
            "Epoch 84/100\n",
            "4/4 [==============================] - 4s 1s/step - loss: 1.1472 - accuracy: 0.3051 - val_loss: 1.1559 - val_accuracy: 0.2900\n",
            "Epoch 85/100\n",
            "4/4 [==============================] - 4s 1s/step - loss: 1.1456 - accuracy: 0.2868 - val_loss: 1.1560 - val_accuracy: 0.2940\n",
            "Epoch 86/100\n",
            "4/4 [==============================] - 4s 1s/step - loss: 1.1454 - accuracy: 0.2946 - val_loss: 1.1542 - val_accuracy: 0.2920\n",
            "Epoch 87/100\n",
            "4/4 [==============================] - 4s 1s/step - loss: 1.1451 - accuracy: 0.2961 - val_loss: 1.1533 - val_accuracy: 0.2920\n",
            "Epoch 88/100\n",
            "4/4 [==============================] - 4s 1s/step - loss: 1.1453 - accuracy: 0.2911 - val_loss: 1.1539 - val_accuracy: 0.2820\n",
            "Epoch 89/100\n",
            "4/4 [==============================] - 4s 1s/step - loss: 1.1441 - accuracy: 0.3050 - val_loss: 1.1540 - val_accuracy: 0.2950\n",
            "Epoch 90/100\n",
            "4/4 [==============================] - 4s 999ms/step - loss: 1.1431 - accuracy: 0.3040 - val_loss: 1.1537 - val_accuracy: 0.2960\n",
            "Epoch 91/100\n",
            "4/4 [==============================] - 4s 1s/step - loss: 1.1407 - accuracy: 0.3023 - val_loss: 1.1517 - val_accuracy: 0.3000\n",
            "Epoch 92/100\n",
            "4/4 [==============================] - 4s 996ms/step - loss: 1.1441 - accuracy: 0.2887 - val_loss: 1.1519 - val_accuracy: 0.2870\n",
            "Epoch 93/100\n",
            "4/4 [==============================] - 4s 1s/step - loss: 1.1402 - accuracy: 0.3004 - val_loss: 1.1523 - val_accuracy: 0.2950\n",
            "Epoch 94/100\n",
            "4/4 [==============================] - 4s 1s/step - loss: 1.1395 - accuracy: 0.3095 - val_loss: 1.1502 - val_accuracy: 0.2930\n",
            "Epoch 95/100\n",
            "4/4 [==============================] - 4s 1s/step - loss: 1.1399 - accuracy: 0.3105 - val_loss: 1.1501 - val_accuracy: 0.2870\n",
            "Epoch 96/100\n",
            "4/4 [==============================] - 4s 1s/step - loss: 1.1395 - accuracy: 0.3059 - val_loss: 1.1502 - val_accuracy: 0.2890\n",
            "Epoch 97/100\n",
            "4/4 [==============================] - 4s 1s/step - loss: 1.1387 - accuracy: 0.3089 - val_loss: 1.1500 - val_accuracy: 0.3020\n",
            "Epoch 98/100\n",
            "4/4 [==============================] - 4s 1s/step - loss: 1.1392 - accuracy: 0.2902 - val_loss: 1.1509 - val_accuracy: 0.2770\n",
            "Epoch 99/100\n",
            "4/4 [==============================] - 4s 1s/step - loss: 1.1359 - accuracy: 0.3211 - val_loss: 1.1499 - val_accuracy: 0.2790\n",
            "Epoch 100/100\n",
            "4/4 [==============================] - 4s 1s/step - loss: 1.1358 - accuracy: 0.3168 - val_loss: 1.1489 - val_accuracy: 0.2890\n"
          ],
          "name": "stdout"
        }
      ]
    },
    {
      "cell_type": "code",
      "metadata": {
        "colab": {
          "base_uri": "https://localhost:8080/"
        },
        "id": "0JmYvL3tRt3n",
        "outputId": "aaa9b7de-9555-41ea-b22d-3823355ad3f1"
      },
      "source": [
        "score = cnn.evaluate(x_test, y_test, batch_size=batch_size, verbose=1)\n",
        "print('\\n########################################\\n#   T E S T    A C C U R A C Y:', (score[1]*100), \"%\\n########################################\")"
      ],
      "execution_count": null,
      "outputs": [
        {
          "output_type": "stream",
          "text": [
            "1/1 [==============================] - 0s 270ms/step - loss: 1.1489 - accuracy: 0.2890\n",
            "\n",
            "########################################\n",
            "#   T E S T    A C C U R A C Y: 28.9000004529953 %\n",
            "########################################\n"
          ],
          "name": "stdout"
        }
      ]
    },
    {
      "cell_type": "code",
      "metadata": {
        "colab": {
          "base_uri": "https://localhost:8080/",
          "height": 530
        },
        "id": "61YtHPinr5L8",
        "outputId": "0a1b6364-1a31-47b3-9a02-08dc57a2e2aa"
      },
      "source": [
        "# plot the loss\n",
        "import matplotlib.pyplot as plt\n",
        "plt.plot(r.history['loss'], label='train loss')\n",
        "plt.plot(r.history['val_loss'], label='val loss')\n",
        "plt.legend()\n",
        "plt.show()\n",
        "plt.savefig('LossVal_loss')\n",
        "\n",
        "# plot the accuracy\n",
        "plt.plot(r.history['accuracy'], label='train acc')\n",
        "plt.plot(r.history['val_accuracy'], label='val acc')\n",
        "plt.legend()\n",
        "plt.show()\n",
        "plt.savefig('AccVal_acc')"
      ],
      "execution_count": null,
      "outputs": [
        {
          "output_type": "display_data",
          "data": {
            "image/png": "[encoded data removed]",
            "text/plain": [
              "<Figure size 432x288 with 1 Axes>"
            ]
          },
          "metadata": {
            "tags": [],
            "needs_background": "light"
          }
        },
        {
          "output_type": "display_data",
          "data": {
            "image/png": "[encoded data removed]",
            "text/plain": [
              "<Figure size 432x288 with 1 Axes>"
            ]
          },
          "metadata": {
            "tags": [],
            "needs_background": "light"
          }
        },
        {
          "output_type": "display_data",
          "data": {
            "text/plain": [
              "<Figure size 432x288 with 0 Axes>"
            ]
          },
          "metadata": {
            "tags": []
          }
        }
      ]
    },
    {
      "cell_type": "code",
      "metadata": {
        "id": "cW4HB0Kmr5UJ"
      },
      "source": [
        "!wget -O samosa.jpg http://veggiefoodrecipes.com/wp-content/uploads/2016/05/lentil-samosa-recipe-01.jpg\n",
        "!wget -O applepie.jpg https://acleanbake.com/wp-content/uploads/2017/10/Paleo-Apple-Pie-with-Crumb-Topping-gluten-free-grain-free-dairy-free-15.jpg\n",
        "!wget -O babybackribs.jpg https://cook.fnr.sndimg.com/content/dam/images/cook/fullset/2012/5/11/0/0041270F1_Baby-Back-Ribs_s4x3.jpg.rend.hgtvcom.826.620.suffix/1369245981352.jpg\n",
        "!wget -O baklava.jpg https://cleobuttera.com/wp-content/uploads/2018/03/lifted-baklava-720x720.jpg\n",
        "!wget -O beefcarpaccio.jpg https://www.seriouseats.com/recipes/images/2013/05/20130531-italian-easy-carpaccio.jpg"
      ],
      "execution_count": null,
      "outputs": []
    },
    {
      "cell_type": "code",
      "metadata": {
        "id": "rOxgTnLQMn2C"
      },
      "source": [
        "images = []\n",
        "images.append('applepie.jpg')\n",
        "images.append('babybackribs.jpg')\n",
        "images.append('baklava.jpg')\n",
        "predict_class(cnn, images, True)\n"
      ],
      "execution_count": null,
      "outputs": []
    },
    {
      "cell_type": "code",
      "metadata": {
        "id": "k-PHDdl6Mn5H"
      },
      "source": [
        ""
      ],
      "execution_count": null,
      "outputs": []
    },
    {
      "cell_type": "code",
      "metadata": {
        "id": "99FtoFhOMn74"
      },
      "source": [
        ""
      ],
      "execution_count": null,
      "outputs": []
    },
    {
      "cell_type": "code",
      "metadata": {
        "id": "lGEE0vqTMn-0"
      },
      "source": [
        ""
      ],
      "execution_count": null,
      "outputs": []
    }
  ]
}